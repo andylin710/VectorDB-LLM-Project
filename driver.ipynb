{
 "cells": [
  {
   "cell_type": "code",
   "execution_count": 1,
   "metadata": {},
   "outputs": [
    {
     "name": "stderr",
     "output_type": "stream",
     "text": [
      "c:\\Users\\kibbl\\anaconda3\\envs\\captcha\\Lib\\site-packages\\torch\\utils\\_pytree.py:185: FutureWarning: optree is installed but the version is too old to support PyTorch Dynamo in C++ pytree. C++ pytree support is disabled. Please consider upgrading optree using `python3 -m pip install --upgrade 'optree>=0.13.0'`.\n",
      "  warnings.warn(\n",
      "c:\\Users\\kibbl\\anaconda3\\envs\\captcha\\Lib\\site-packages\\tqdm\\auto.py:21: TqdmWarning: IProgress not found. Please update jupyter and ipywidgets. See https://ipywidgets.readthedocs.io/en/stable/user_install.html\n",
      "  from .autonotebook import tqdm as notebook_tqdm\n"
     ]
    },
    {
     "name": "stdout",
     "output_type": "stream",
     "text": [
      "WARNING:tensorflow:From C:\\Users\\kibbl\\AppData\\Roaming\\Python\\Python312\\site-packages\\tf_keras\\src\\losses.py:2976: The name tf.losses.sparse_softmax_cross_entropy is deprecated. Please use tf.compat.v1.losses.sparse_softmax_cross_entropy instead.\n",
      "\n"
     ]
    },
    {
     "name": "stderr",
     "output_type": "stream",
     "text": [
      "[nltk_data] Downloading package stopwords to\n",
      "[nltk_data]     C:\\Users\\kibbl\\AppData\\Roaming\\nltk_data...\n",
      "[nltk_data]   Package stopwords is already up-to-date!\n",
      "[nltk_data] Downloading package punkt to\n",
      "[nltk_data]     C:\\Users\\kibbl\\AppData\\Roaming\\nltk_data...\n",
      "[nltk_data]   Package punkt is already up-to-date!\n",
      "[nltk_data] Downloading package punkt_tab to\n",
      "[nltk_data]     C:\\Users\\kibbl\\AppData\\Roaming\\nltk_data...\n",
      "[nltk_data]   Package punkt_tab is already up-to-date!\n"
     ]
    },
    {
     "name": "stdout",
     "output_type": "stream",
     "text": [
      "Clearing existing Redis store...\n",
      "Redis store cleared.\n",
      "Index created successfully.\n",
      "Processing PDFs...\n"
     ]
    },
    {
     "name": "stderr",
     "output_type": "stream",
     "text": [
      "100%|██████████| 15/15 [09:49<00:00, 39.29s/it]\n"
     ]
    },
    {
     "name": "stdout",
     "output_type": "stream",
     "text": [
      "Time elapsed: 589.3188 seconds\n",
      "Peak memory usage: 37.88 MiB\n",
      "\n",
      "---Done processing PDFs---\n",
      "\n",
      "Query: What is an AVL Tree?\n",
      "An AVL (Adelson-Velskii-Landis) Tree is a self-balancing binary search tree data structure, which ensures that the height of the tree remains relatively constant even after inserting or deleting nodes. It is designed to maintain balance by rotating nodes when the balance factor becomes too large.\n",
      "\n",
      "In an AVL Tree:\n",
      "\n",
      "- Each node has a key and pointers to its left and right children.\n",
      "- The root node is the topmost node in the tree.\n",
      "- All nodes to the left of a given node have keys less than the node's key, while all nodes to the right have keys greater.\n",
      "- When inserting or deleting nodes, the tree is rebalanced by performing rotations as needed to maintain balance.\n",
      "\n",
      "AVL Trees are used to keep data organized and efficient in situations where frequent insertions and deletions occur.\n",
      "Time elapsed: 106.2785 seconds\n",
      "---------------------------\n",
      "Query: Define the CAP Theorem.\n",
      "The CAP Theorem, also known as the Brewer's CAP theorem, states that it is impossible for a distributed data storage system to simultaneously guarantee all three of the following:\n",
      "\n",
      "1. **Consistency**: Every read operation will see the most recent write or an error.\n",
      "2. **Availability**: Every request receives a response, without the guarantee that it contains the most recent version of the information.\n",
      "3. **Partition Tolerance**: The system continues to operate and make progress even when network partitions (i.e., splits) occur.\n",
      "\n",
      "In other words, a distributed system can at most guarantee two out of the three guarantees simultaneously. This theorem was first proposed by Eric Brewer in 2000 and has since become a fundamental concept in distributed systems design.\n",
      "Time elapsed: 61.3687 seconds\n",
      "---------------------------\n",
      "Query: How can I connect to a Mongo Database through Python?\n",
      "To connect to a MongoDB database through Python, you can use the pymongo library. Here's an example of how to do it:\n",
      "\n",
      "```python\n",
      "from pymongo import MongoClient\n",
      "\n",
      "client = MongoClient(\"mongodb://user_name:pw@localhost:27017/\")\n",
      "```\n",
      "\n",
      "Replace \"user_name\", \"pw\", and \"localhost\" with your actual MongoDB credentials and hostname.\n",
      "\n",
      "Alternatively, you can also specify the database name when creating the client:\n",
      "\n",
      "```python\n",
      "from pymongo import MongoClient\n",
      "\n",
      "client = MongoClient(\"mongodb://user_name:pw@localhost:27017/\", {\"db\": \"ds4300\"})\n",
      "```\n",
      "\n",
      "Or, you can use the `ds4300` database directly without specifying the client:\n",
      "\n",
      "```python\n",
      "from pymongo import MongoClient\n",
      "\n",
      "db = client[\"ds4300\"]\n",
      "```\n",
      "\n",
      "This will establish a connection to your MongoDB instance and allow you to interact with it.\n",
      "Time elapsed: 51.7539 seconds\n",
      "---------------------------\n",
      "Query: Why are the pros of cons of using a linked list versus using an array?\n",
      "Based on the provided context, here's the answer:\n",
      "\n",
      "Linked lists have several advantages over arrays:\n",
      "\n",
      "1. Faster insertion: Linked lists allow for faster insertion of records anywhere in the list, as only the adjacent node needs to be updated.\n",
      "2. Efficient use of memory: In a linked list, each record only requires additional space for its reference (i.e., the \"link\" to the next node), whereas arrays require extra space for the entire contiguous block of records.\n",
      "\n",
      "On the other hand, linked lists have some disadvantages compared to arrays:\n",
      "\n",
      "1. Slower random access: Linked lists are slower for random access, as each record needs to be traversed sequentially to reach a specific element.\n",
      "2. Extra memory overhead: Linked lists require additional memory to store the reference (i.e., \"link\") between records, which can lead to increased memory usage.\n",
      "\n",
      "In contrast, arrays have faster random access and do not require extra memory for links, but they are slower for insertion operations, especially when inserting anywhere in the middle of the list.\n",
      "Time elapsed: 84.1661 seconds\n",
      "---------------------------\n",
      "Query: Give me pseudocode for a Binary Search Tree Node.\n",
      "Based on the context provided, I can create a pseudocode for a Binary Search Tree Node as follows:\n",
      "\n",
      "```\n",
      "NODE(x)\n",
      "  p <- parent of x (pointer to the parent node)\n",
      "  left <- left child of x (pointer to the left child node)\n",
      "  right <- right child of x (pointer to the right child node)\n",
      "  key <- stored key at node x\n",
      "END NODE\n",
      "\n",
      "class Node:\n",
      "  def __init__(self, key):\n",
      "    self.key = key\n",
      "    self.left = None\n",
      "    self.right = None\n",
      "    self.parent = None\n",
      "```\n",
      "\n",
      "Alternatively, if you want a more formal pseudocode representation:\n",
      "\n",
      "```\n",
      "PROCEDURE CreateNode(key)\n",
      "  CREATE NEW NODE\n",
      "  SET KEY OF NEW NODE TO key\n",
      "  SET LEFT CHILD OF NEW NODE TO NULL\n",
      "  SET RIGHT CHILD OF NEW NODE TO NULL\n",
      "  SET PARENT OF NEW NODE TO parent_node\n",
      "END PROCEDURE\n",
      "\n",
      "NODE(x, p, left, right, key)\n",
      "  P <- p (parent of x)\n",
      "  L <- left (left child of x)\n",
      "  R <- right (right child of x)\n",
      "  K <- key (stored key at node x)\n",
      "END NODE\n",
      "```\n",
      "\n",
      "Note that the pseudocode may vary slightly depending on the notation used and personal preference.\n",
      "Time elapsed: 95.786 seconds\n",
      "---------------------------\n"
     ]
    }
   ],
   "source": [
    "from redis_pipeline import run_test\n",
    "\n",
    "QUERIES = [\n",
    "    'What is an AVL Tree?',\n",
    "    'Define the CAP Theorem.',\n",
    "    'How can I connect to a Mongo Database through Python?',\n",
    "    'Why are the pros of cons of using a linked list versus using an array?',\n",
    "    'Give me pseudocode for a Binary Search Tree Node.'\n",
    "]\n",
    "\n",
    "LLM_MODEL = 'llama3.2:latest'\n",
    "EMBEDDING_MODEL = 'sentence-transformers/all-mpnet-base-v2'\n",
    "\n",
    "run_test(QUERIES, EMBEDDING_MODEL, LLM_MODEL)"
   ]
  }
 ],
 "metadata": {
  "kernelspec": {
   "display_name": "Python 3",
   "language": "python",
   "name": "python3"
  },
  "language_info": {
   "codemirror_mode": {
    "name": "ipython",
    "version": 3
   },
   "file_extension": ".py",
   "mimetype": "text/x-python",
   "name": "python",
   "nbconvert_exporter": "python",
   "pygments_lexer": "ipython3",
   "version": "3.12.5"
  }
 },
 "nbformat": 4,
 "nbformat_minor": 2
}
