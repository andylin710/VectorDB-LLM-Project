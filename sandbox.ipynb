{
 "cells": [
  {
   "cell_type": "code",
   "execution_count": 2,
   "metadata": {},
   "outputs": [],
   "source": [
    "import pypdf                # PDF reader\n",
    "from tqdm import tqdm       # Progress bar bc I'm impatient\n",
    "import os                   # Navigate folders"
   ]
  },
  {
   "cell_type": "code",
   "execution_count": 3,
   "metadata": {},
   "outputs": [
    {
     "name": "stderr",
     "output_type": "stream",
     "text": [
      "100%|██████████| 38/38 [00:16<00:00,  2.26it/s]\n"
     ]
    }
   ],
   "source": [
    "reader = pypdf.PdfReader('Roland_Notes.pdf')\n",
    "\n",
    "notes = ''\n",
    "\n",
    "for page in tqdm(reader.pages):\n",
    "    notes += page.extract_text()"
   ]
  },
  {
   "cell_type": "code",
   "execution_count": 8,
   "metadata": {},
   "outputs": [
    {
     "name": "stderr",
     "output_type": "stream",
     "text": [
      "100%|██████████| 13/13 [00:01<00:00,  6.88it/s]\n"
     ]
    }
   ],
   "source": [
    "texts = []\n",
    "\n",
    "for doc in tqdm(os.listdir('Slides')):\n",
    "    reader = pypdf.PdfReader(f'Slides/{doc}')\n",
    "\n",
    "    text = ''\n",
    "\n",
    "    for page in reader.pages:\n",
    "        text += page.extract_text()\n",
    "\n",
    "    texts.append(text)"
   ]
  }
 ],
 "metadata": {
  "kernelspec": {
   "display_name": "Python 3",
   "language": "python",
   "name": "python3"
  },
  "language_info": {
   "codemirror_mode": {
    "name": "ipython",
    "version": 3
   },
   "file_extension": ".py",
   "mimetype": "text/x-python",
   "name": "python",
   "nbconvert_exporter": "python",
   "pygments_lexer": "ipython3",
   "version": "3.12.5"
  }
 },
 "nbformat": 4,
 "nbformat_minor": 2
}
